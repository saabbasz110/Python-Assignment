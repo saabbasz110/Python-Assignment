{
 "cells": [
  {
   "cell_type": "code",
   "execution_count": 1,
   "metadata": {},
   "outputs": [
    {
     "name": "stdout",
     "output_type": "stream",
     "text": [
      "Please enter the value of radius of the circle = 2\n",
      "Area of the circle is 12.568\n"
     ]
    }
   ],
   "source": [
    "# Question 4\n",
    "R = int(input(\"Please enter the value of radius of the circle = \"))\n",
    "Area = 3.142 * (R ** 2)\n",
    "print(\"Area of the circle is \" +str(Area))"
   ]
  },
  {
   "cell_type": "code",
   "execution_count": 8,
   "metadata": {},
   "outputs": [
    {
     "name": "stdout",
     "output_type": "stream",
     "text": [
      "Your First Name = mehdi\n",
      "Your Last Name = abbas\n",
      "Name =  abbas mehdi\n"
     ]
    }
   ],
   "source": [
    "#question 5\n",
    "a = input(\"Your First Name = \")\n",
    "b = input(\"Your Last Name = \")\n",
    "c = b + \" \" + a\n",
    "print(\"Name = \" + \" \" + c)"
   ]
  },
  {
   "cell_type": "code",
   "execution_count": 2,
   "metadata": {},
   "outputs": [
    {
     "name": "stdout",
     "output_type": "stream",
     "text": [
      "Enter Your First Value = 5\n",
      "Enter Your Second Value = 3\n",
      "53\n"
     ]
    }
   ],
   "source": [
    "# Question 6\n",
    "a = input(\"Enter Your First Value = \")\n",
    "b = input(\"Enter Your Second Value = \")\n",
    "c = a + b\n",
    "print(c)"
   ]
  },
  {
   "cell_type": "code",
   "execution_count": 5,
   "metadata": {},
   "outputs": [
    {
     "name": "stdout",
     "output_type": "stream",
     "text": [
      "Current date and time is 2019-11-21 18:12:02.802583\n"
     ]
    }
   ],
   "source": [
    "# question 3\n",
    "from datetime import datetime\n",
    "time = datetime.now()\n",
    "print(\"Current date and time is \" + str(time))\n"
   ]
  },
  {
   "cell_type": "code",
   "execution_count": 11,
   "metadata": {},
   "outputs": [
    {
     "name": "stdout",
     "output_type": "stream",
     "text": [
      "Current Version is 3.7.4 (default, Aug  9 2019, 18:34:13) [MSC v.1915 64 bit (AMD64)]\n"
     ]
    }
   ],
   "source": [
    "# Question 2\n",
    "import sys\n",
    "Version = sys.version\n",
    "print(\"Current Version is \"+ Version)"
   ]
  },
  {
   "cell_type": "code",
   "execution_count": 12,
   "metadata": {},
   "outputs": [
    {
     "name": "stdout",
     "output_type": "stream",
     "text": [
      "Twinkle, twinkle, little star,\n",
      "\tHow I wonder what you are!\n",
      "\t\tUP above the world so high,\n",
      "\t\tLike a diamond in the sky\n",
      "Twinkle, twinkle, little star,\n",
      "\tHow I wonder what you are\n"
     ]
    }
   ],
   "source": [
    "# Question 1\n",
    "print(\"Twinkle, twinkle, little star,\\n\\tHow I wonder what you are!\\n\\t\\tUP above the world so high,\\n\\t\\tLike a diamond in the sky\\nTwinkle, twinkle, little star,\\n\\tHow I wonder what you are\")"
   ]
  },
  {
   "cell_type": "code",
   "execution_count": null,
   "metadata": {},
   "outputs": [],
   "source": []
  }
 ],
 "metadata": {
  "kernelspec": {
   "display_name": "Python 3",
   "language": "python",
   "name": "python3"
  },
  "language_info": {
   "codemirror_mode": {
    "name": "ipython",
    "version": 3
   },
   "file_extension": ".py",
   "mimetype": "text/x-python",
   "name": "python",
   "nbconvert_exporter": "python",
   "pygments_lexer": "ipython3",
   "version": "3.7.4"
  }
 },
 "nbformat": 4,
 "nbformat_minor": 2
}
